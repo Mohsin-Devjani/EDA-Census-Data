{
 "cells": [
  {
   "cell_type": "markdown",
   "metadata": {},
   "source": [
    "# Write here the problem you are solving"
   ]
  },
  {
   "cell_type": "markdown",
   "metadata": {},
   "source": [
    "For help, Google and you will be probably shown blogs from the following websites:\n",
    "\n",
    "medium.com, datasciencecentral.com, towardsdatascience.com, stackoverflow.com\n",
    "datasciencemadesimple.com"
   ]
  },
  {
   "cell_type": "markdown",
   "metadata": {},
   "source": [
    "## Importing the Basic Libraries"
   ]
  },
  {
   "cell_type": "code",
   "execution_count": null,
   "metadata": {},
   "outputs": [],
   "source": [
    "#import the basic libraries\n",
    "#pandas, numpy, sklearn, matplotlib, seaborn, scipy"
   ]
  },
  {
   "cell_type": "markdown",
   "metadata": {},
   "source": [
    "## Configuring Default API Parameters"
   ]
  },
  {
   "cell_type": "code",
   "execution_count": 2,
   "metadata": {},
   "outputs": [],
   "source": [
    "#if required, configure here the in-built parameters of the above libraries\n",
    "#for instance, floating point precision display with pandas\n",
    "#or matplotlib.pyplot settings (area etc.)"
   ]
  },
  {
   "cell_type": "markdown",
   "metadata": {},
   "source": [
    "## Importing the Data"
   ]
  },
  {
   "cell_type": "code",
   "execution_count": 3,
   "metadata": {},
   "outputs": [],
   "source": [
    "#import the data (typically pandas dataframe or numpy array)"
   ]
  },
  {
   "cell_type": "markdown",
   "metadata": {},
   "source": [
    "## Birds Eye View"
   ]
  },
  {
   "cell_type": "code",
   "execution_count": null,
   "metadata": {},
   "outputs": [],
   "source": [
    "#do the following for initial birds eye view\n",
    "#head, tail, shape, columns, column types"
   ]
  },
  {
   "cell_type": "markdown",
   "metadata": {},
   "source": [
    "## Analysis (Birds Eye View)"
   ]
  },
  {
   "cell_type": "code",
   "execution_count": null,
   "metadata": {},
   "outputs": [],
   "source": [
    "# write down what you have understood from above and justify your strategy"
   ]
  },
  {
   "cell_type": "markdown",
   "metadata": {},
   "source": [
    "## Dealing with Incorrect/Inconsistent Data"
   ]
  },
  {
   "cell_type": "code",
   "execution_count": null,
   "metadata": {},
   "outputs": [],
   "source": [
    "# 1. discover incorrect or inconsistent data (check each column)\n",
    "# e.g., gender values in age columns, numbers in date columns etc.\n",
    "# 2. deal with these problems"
   ]
  },
  {
   "cell_type": "markdown",
   "metadata": {},
   "source": [
    "## Analysis (Inconsistencies)"
   ]
  },
  {
   "cell_type": "code",
   "execution_count": null,
   "metadata": {},
   "outputs": [],
   "source": [
    "# write down what you have understood from above and justify your strategy"
   ]
  },
  {
   "cell_type": "markdown",
   "metadata": {},
   "source": [
    "## Dealing with Duplicated Rows and Columns"
   ]
  },
  {
   "cell_type": "code",
   "execution_count": null,
   "metadata": {},
   "outputs": [],
   "source": [
    "# 1. discover duplicated columns and rows\n",
    "# 2. deal with them"
   ]
  },
  {
   "cell_type": "markdown",
   "metadata": {},
   "source": [
    "## Analysis (Duplicates)"
   ]
  },
  {
   "cell_type": "code",
   "execution_count": null,
   "metadata": {},
   "outputs": [],
   "source": [
    "# write down what you have understood from above and justify your strategy"
   ]
  },
  {
   "cell_type": "markdown",
   "metadata": {},
   "source": [
    "## Dealing with Incomplete Data"
   ]
  },
  {
   "cell_type": "code",
   "execution_count": null,
   "metadata": {},
   "outputs": [],
   "source": [
    "# 1. discover incomplete data (e.g., NIC or address not complete)\n",
    "# 2. deal with these problems"
   ]
  },
  {
   "cell_type": "markdown",
   "metadata": {},
   "source": [
    "## Analysis (Incomplete Data)"
   ]
  },
  {
   "cell_type": "code",
   "execution_count": null,
   "metadata": {},
   "outputs": [],
   "source": [
    "# write down what you have understood from above and justify your strategy"
   ]
  },
  {
   "cell_type": "markdown",
   "metadata": {},
   "source": [
    "## Dealing with Outdated Data"
   ]
  },
  {
   "cell_type": "code",
   "execution_count": null,
   "metadata": {},
   "outputs": [],
   "source": [
    "# 1. discover outdated data (e.g., age, address, salary not updated)\n",
    "# 2. deal with it"
   ]
  },
  {
   "cell_type": "markdown",
   "metadata": {},
   "source": [
    "## Analysis (Outdated Data)"
   ]
  },
  {
   "cell_type": "code",
   "execution_count": null,
   "metadata": {},
   "outputs": [],
   "source": [
    "# write down what you have understood from above and justify your strategy"
   ]
  },
  {
   "cell_type": "markdown",
   "metadata": {},
   "source": [
    "## Dealing with Unnecessary Rows and Columns"
   ]
  },
  {
   "cell_type": "code",
   "execution_count": null,
   "metadata": {},
   "outputs": [],
   "source": [
    "# 1. identify unnecessary rows and columns (based on business knowledge)\n",
    "# and previous data science experience (e.g., rows containing more than 50% missing values should be deleted)\n",
    "\n",
    "# 2. remove these columns and rows"
   ]
  },
  {
   "cell_type": "markdown",
   "metadata": {},
   "source": [
    "## Analysis of Unnecessary Data"
   ]
  },
  {
   "cell_type": "code",
   "execution_count": null,
   "metadata": {},
   "outputs": [],
   "source": [
    "# write down what you have understood from above and justify your strategy"
   ]
  },
  {
   "cell_type": "markdown",
   "metadata": {},
   "source": [
    "## Dealing with Missing Values"
   ]
  },
  {
   "cell_type": "code",
   "execution_count": null,
   "metadata": {},
   "outputs": [],
   "source": [
    "# 1. identify the missing values (column wise, for each column)\n",
    "# 2. deal with them (imputation thru mean, median, interpolation, constant)\n",
    "# or delete the missing values\n",
    "\n",
    "# 3. you could also choose to analyze the missing values row-wise\n",
    "# in row-wise, you could choose to delete rows which contain more than 50% missing values\n",
    "# 4. delete those rows which contain a large number of missing values\n",
    "# you can first delete those rows which contain more than 50% missing values and then impute the missing values column-wise\n",
    "#in imputation, make sure that the original distribution (either numerical or categorical) doesn't change"
   ]
  },
  {
   "cell_type": "markdown",
   "metadata": {},
   "source": [
    "## Analysis (Missing Values)"
   ]
  },
  {
   "cell_type": "code",
   "execution_count": null,
   "metadata": {},
   "outputs": [],
   "source": [
    "# write down what you have understood from above and justify your strategy"
   ]
  },
  {
   "cell_type": "markdown",
   "metadata": {},
   "source": [
    "## Change column data types (date/timestamps)"
   ]
  },
  {
   "cell_type": "code",
   "execution_count": 5,
   "metadata": {},
   "outputs": [],
   "source": [
    "# after basic cleaning, we can change column types\n",
    "# for timestamps, this is a necessity because python generally assign an Object type to timestamps and this has to be converted"
   ]
  },
  {
   "cell_type": "markdown",
   "metadata": {},
   "source": [
    "## Analysis of Data Type Change"
   ]
  },
  {
   "cell_type": "code",
   "execution_count": null,
   "metadata": {},
   "outputs": [],
   "source": [
    "# write down what you have understood from above and justify your strategy"
   ]
  },
  {
   "cell_type": "markdown",
   "metadata": {},
   "source": [
    "## Drilling the Categorical Variables (Dimensions)"
   ]
  },
  {
   "cell_type": "code",
   "execution_count": null,
   "metadata": {},
   "outputs": [],
   "source": [
    "# draw frequency bar graphs of categorical variables\n",
    "\n",
    "#for high cardinality, draw horizontal bar graph\n",
    "\n",
    "#for low cardinality, draw vertical bar graph\n",
    "\n",
    "# deal with high cardinality (which generates too many columns in 1-hot encoding)\n",
    "# dealing with high cardinality is a business decision, e.g., we can ask the business to allow us to remove low-frequency values (e.g., products with very limited sales or customers who visited us only once)\n",
    "# we should try to lower the cardinality through change of discretization (e.g., from 20 unique values to 10 unique values)\n",
    "\n",
    "# deal with outliers (very low frequency)\n",
    "\n",
    "# delete columns with only one value (e.g., if Product_Name col has only \"Redmi 4\" as value, then the column will be deleted and in problem statement, we will say that this analysis is for Redmi4)"
   ]
  },
  {
   "cell_type": "markdown",
   "metadata": {},
   "source": [
    "## EDA Categorical (Output)"
   ]
  },
  {
   "cell_type": "code",
   "execution_count": null,
   "metadata": {},
   "outputs": [],
   "source": [
    "# write down what you have understood from above (for each column)\n",
    "# interpretation of each graph\n",
    "# why you took the actions you took on the string columns (data governance policy)\n",
    "# your analyses"
   ]
  },
  {
   "cell_type": "markdown",
   "metadata": {},
   "source": [
    "## Drilling Numerical Variables (Includes Facts/KPIs)"
   ]
  },
  {
   "cell_type": "code",
   "execution_count": null,
   "metadata": {},
   "outputs": [],
   "source": [
    "#draw histograms and boxplots of all the numerical variables\n",
    "\n",
    "#identify skews and outliers and deal with them (it may not be feasible to take the outliers into machine learninh models unless they are part of class label)\n",
    "# dealing with outliers is a business decision"
   ]
  },
  {
   "cell_type": "markdown",
   "metadata": {},
   "source": [
    "## EDA Numerical (Output)"
   ]
  },
  {
   "cell_type": "code",
   "execution_count": 6,
   "metadata": {},
   "outputs": [],
   "source": [
    "# write down what you have understood from above (for each column)\n",
    "# interpretation of each graph\n",
    "# why you took the decisons you took? (data governance policy)\n",
    "# your analyses"
   ]
  },
  {
   "cell_type": "markdown",
   "metadata": {},
   "source": [
    "## T-Tests"
   ]
  },
  {
   "cell_type": "code",
   "execution_count": null,
   "metadata": {},
   "outputs": [],
   "source": [
    "#conduct T-Tests (basically if you want to cross-check whether means of two numerical variables are different from each other)\n",
    "# remember that the selection of variables should make logical sense for the business and should have some impact on the future business strategy\n",
    "# do not do T-Test of each combination of numerical variable (illogical)"
   ]
  },
  {
   "cell_type": "markdown",
   "metadata": {},
   "source": [
    "## Analysis of T-Test Results"
   ]
  },
  {
   "cell_type": "code",
   "execution_count": null,
   "metadata": {},
   "outputs": [],
   "source": [
    "#write down the conclusions from all T-Tests"
   ]
  },
  {
   "cell_type": "markdown",
   "metadata": {},
   "source": [
    "## 1-way Anova Tests"
   ]
  },
  {
   "cell_type": "code",
   "execution_count": null,
   "metadata": {},
   "outputs": [],
   "source": [
    "#conduct 1-way Anova (done between a categorical variable and numerical variable to check whether the latter's mean is different across the groups in former variable)\n",
    "# remember that the selection of variables should make logical sense for the business and should have some impact on the future business strategy\n",
    "# do not do 1-way anova of each combination of numerical variable (illogical)"
   ]
  },
  {
   "cell_type": "markdown",
   "metadata": {},
   "source": [
    "## Analysis of 1-way Anova Results"
   ]
  },
  {
   "cell_type": "code",
   "execution_count": null,
   "metadata": {},
   "outputs": [],
   "source": [
    "#write down the conclusions from all 1-way Anova Results"
   ]
  },
  {
   "cell_type": "markdown",
   "metadata": {},
   "source": [
    "## 2-way Anova Tests"
   ]
  },
  {
   "cell_type": "code",
   "execution_count": null,
   "metadata": {},
   "outputs": [],
   "source": [
    "#conduct 2-way Anova (done between 2 categorical variables and numerical variable to check whether the latter's mean is different across the groups in combination of the string variables)\n",
    "# remember that the selection of variables should make logical sense for the business and should have some impact on the future business strategy\n",
    "# do not do 2-way anova of each combination of numerical variable (illogical)"
   ]
  },
  {
   "cell_type": "markdown",
   "metadata": {},
   "source": [
    "## Analysis of 2-way Anova Results"
   ]
  },
  {
   "cell_type": "code",
   "execution_count": null,
   "metadata": {},
   "outputs": [],
   "source": [
    "#write down the conclusions from all 2-way Anova Results"
   ]
  },
  {
   "cell_type": "markdown",
   "metadata": {},
   "source": [
    "## Correlations Analysis with Heatmaps (Numerical)"
   ]
  },
  {
   "cell_type": "code",
   "execution_count": null,
   "metadata": {},
   "outputs": [],
   "source": [
    "# discover correlations between numerical variables and plot of the seaborn heatmap.\n",
    "# You can also plot the co-variances\n",
    "# use seaborn's pairplot and co-variance (https://medium.com/towards-artificial-intelligence/feature-selection-and-dimensionality-reduction-using-covariance-matrix-plot-b4c7498abd07)\n",
    "# you can also calculate Pearson correlations and make heatmaps based on that"
   ]
  },
  {
   "cell_type": "markdown",
   "metadata": {},
   "source": [
    "## Correlation Heatmap Results"
   ]
  },
  {
   "cell_type": "code",
   "execution_count": null,
   "metadata": {},
   "outputs": [],
   "source": [
    "# write down the results of heatmap correlation analysis"
   ]
  },
  {
   "cell_type": "markdown",
   "metadata": {},
   "source": [
    "## Correlation Analysis with Cross-Tab (Categorical)"
   ]
  },
  {
   "cell_type": "code",
   "execution_count": null,
   "metadata": {},
   "outputs": [],
   "source": [
    "# do cross-tabulation to determine how the string variables are related to each other\n",
    "# see some online examples in Python to get started"
   ]
  },
  {
   "cell_type": "markdown",
   "metadata": {},
   "source": [
    "## Correlation Cross-Tab Results"
   ]
  },
  {
   "cell_type": "code",
   "execution_count": 1,
   "metadata": {},
   "outputs": [],
   "source": [
    "# write down the results of cross-tab correlation analysis"
   ]
  },
  {
   "cell_type": "markdown",
   "metadata": {},
   "source": [
    "## Timestamp Column Analysis"
   ]
  },
  {
   "cell_type": "code",
   "execution_count": null,
   "metadata": {},
   "outputs": [],
   "source": [
    "# Analyze the timestamp columns\n",
    "# compare dates if there are more than one columns (e.g., order date, ship date, delivery date)\n",
    "# generate required columns over which the numerical and categorical columns are analyzed for business needs (quarter number, month name, week number, year)\n",
    "# because it doesn't make sense to analyze the complete timestamp value like 6/11/2019 14:43:22 etc."
   ]
  },
  {
   "cell_type": "markdown",
   "metadata": {},
   "source": [
    "## Analysis of Timestamp Column"
   ]
  },
  {
   "cell_type": "code",
   "execution_count": null,
   "metadata": {},
   "outputs": [],
   "source": [
    "# write down the results of cross-tab correlation analysis"
   ]
  }
 ],
 "metadata": {
  "kernelspec": {
   "display_name": "Python 3",
   "language": "python",
   "name": "python3"
  },
  "language_info": {
   "codemirror_mode": {
    "name": "ipython",
    "version": 3
   },
   "file_extension": ".py",
   "mimetype": "text/x-python",
   "name": "python",
   "nbconvert_exporter": "python",
   "pygments_lexer": "ipython3",
   "version": "3.7.3"
  }
 },
 "nbformat": 4,
 "nbformat_minor": 4
}
